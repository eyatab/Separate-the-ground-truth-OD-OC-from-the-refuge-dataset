{
  "cells": [
    {
      "cell_type": "markdown",
      "metadata": {
        "id": "view-in-github",
        "colab_type": "text"
      },
      "source": [
        "<a href=\"https://colab.research.google.com/github/eyatab/Separate-the-ground-truth-OD-OC-from-the-refuge-dataset/blob/main/SEPERATE_GT_REFUGE.ipynb\" target=\"_parent\"><img src=\"https://colab.research.google.com/assets/colab-badge.svg\" alt=\"Open In Colab\"/></a>"
      ]
    },
    {
      "cell_type": "code",
      "execution_count": 1,
      "metadata": {
        "colab": {
          "base_uri": "https://localhost:8080/"
        },
        "id": "CXtw-F-wD4I0",
        "outputId": "f4cb4b2c-9be4-467a-a4cb-d11c806aa21f"
      },
      "outputs": [
        {
          "output_type": "stream",
          "name": "stdout",
          "text": [
            "Mounted at /content/drive\n"
          ]
        }
      ],
      "source": [
        "from google.colab import drive\n",
        "drive.mount('/content/drive')"
      ]
    },
    {
      "cell_type": "markdown",
      "metadata": {
        "id": "YzNF_sndclY9"
      },
      "source": []
    },
    {
      "cell_type": "markdown",
      "metadata": {
        "id": "4dWUnJiqfily"
      },
      "source": [
        "#importation"
      ]
    },
    {
      "cell_type": "code",
      "execution_count": 2,
      "metadata": {
        "id": "Nas3TxUtDwvn"
      },
      "outputs": [],
      "source": [
        "from skimage.transform import resize\n",
        "import cv2\n",
        "import numpy as np\n",
        "from PIL import Image\n",
        "import imutils\n",
        "import matplotlib.pyplot as plt\n",
        "import os"
      ]
    },
    {
      "cell_type": "markdown",
      "metadata": {
        "id": "OXuSEOV7FQ36"
      },
      "source": [
        "##extract disc cup"
      ]
    },
    {
      "cell_type": "code",
      "execution_count": 3,
      "metadata": {
        "id": "AkYmrGhmCiL0"
      },
      "outputs": [],
      "source": [
        "def extract_number(filename):\n",
        "    # Supprimer le \"g\" initial et convertir le reste en entier\n",
        "    return int(filename[1:-4])\n",
        "\n",
        "def extract_disc_and_cup_masks(disc_mask,cup_mask):\n",
        "   #extract disc\n",
        "        disc_mask[(disc_mask == 0).all(axis=2)] = [128, 128, 128]  # Gris pour disc\n",
        "        disc_mask[(disc_mask == 128).all(axis=2)] = [0, 0, 0]\n",
        "        disc_mask= 255 - disc_mask\n",
        "\n",
        "        #extract cup\n",
        "        cup_mask[(cup_mask == 128).all(axis=2)] = [255, 255, 255]  # Blanc pour cup\n",
        "        cup_mask = 255 - cup_mask\n",
        "        # Apply thresholding to create a binary mask disc\n",
        "        disc_mask = cv2.cvtColor(disc_mask, cv2.COLOR_BGR2GRAY)\n",
        "        #_, disc_mask = cv2.threshold(disc_mask, 128, 255, cv2.THRESH_BINARY)\n",
        "        # Apply thresholding to create a binary mask cup\n",
        "        cup_mask= cv2.cvtColor(cup_mask, cv2.COLOR_BGR2GRAY)\n",
        "        _, cup_mask = cv2.threshold(cup_mask, 1, 255, cv2.THRESH_BINARY)\n",
        "\n",
        "        # Taille cible finale\n",
        "        target_size = (256, 256)\n",
        "\n",
        "        # Effectuer une réduction progressive en plusieurs étapes\n",
        "        while disc_mask.shape[0] > target_size[0] or disc_mask.shape[1] > target_size[1]:\n",
        "              # Réduire l'image de moitié à chaque étape\n",
        "              disc_mask = cv2.resize(disc_mask, (max(disc_mask.shape[1] // 2, target_size[1]), max(disc_mask.shape[0] // 2, target_size[0])))\n",
        "\n",
        "        # Redimensionner l'image à la taille finale\n",
        "              disc_mask= cv2.resize(disc_mask, target_size,cv2.INTER_AREA)\n",
        "\n",
        "        # Effectuer une réduction progressive en plusieurs étapes\n",
        "        while cup_mask.shape[0] > target_size[0] or cup_mask.shape[1] > target_size[1]:\n",
        "        # Réduire l'image de moitié à chaque étape\n",
        "              cup_mask = cv2.resize(cup_mask, (max(cup_mask.shape[1] // 2, target_size[1]), max(cup_mask.shape[0] // 2, target_size[0])))\n",
        "\n",
        "        # Redimensionner l'image à la taille finale\n",
        "              cup_mask= cv2.resize(cup_mask, target_size,cv2.INTER_AREA)\n",
        "\n",
        "        #disc_mask = cv2.resize(disc_mask, (256, 256),interpolation=cv2.INTER_NEAREST)\n",
        "        #cup_mask = cv2.resize(cup_mask, (256, 256),interpolation=cv2.INTER_NEAREST)\n",
        "\n",
        "        return disc_mask, cup_mask"
      ]
    },
    {
      "cell_type": "code",
      "source": [
        "def readimg(img):\n",
        "  img = cv2.resize(img, (256, 256))\n",
        "  return img"
      ],
      "metadata": {
        "id": "kzVOkvWTxbQk"
      },
      "execution_count": null,
      "outputs": []
    },
    {
      "cell_type": "markdown",
      "source": [
        "#Train data OD OC\n"
      ],
      "metadata": {
        "id": "Q1PVkwN9xLOD"
      }
    },
    {
      "cell_type": "code",
      "source": [
        "Path_trainGT='/content/drive/MyDrive/REFUGE/train/gts'\n",
        "Path_trainIMG='/content/drive/MyDrive/REFUGE/train/Images'\n",
        "image_files = os.listdir(Path_trainIMG) #nom files\n",
        "# Trier les noms de fichiers en utilisant la fonction de tri personnalisée\n",
        "image_files = sorted(image_files, key=extract_number)\n",
        "\n",
        "# Initialize lists to store training data and labels\n",
        "training_images = []\n",
        "training_GTOD= []\n",
        "training_GTOC= []\n",
        "for image_file in image_files:\n",
        "    image_path = os.path.join(Path_trainIMG, image_file)\n",
        "    gt_file = os.path.splitext(image_file)[0] + '.bmp'\n",
        "    gt_path = os.path.join(Path_trainGT, gt_file)\n",
        "\n",
        "    if os.path.isfile(gt_path):\n",
        "        # Charger l'image et ground truth\n",
        "        image = cv2.imread(image_path)\n",
        "        gt = cv2.imread(gt_path)\n",
        "        #create copy\n",
        "        disc_mask = gt.copy()\n",
        "        cup_mask = gt.copy()\n",
        "        image= readimg(image)\n",
        "\n",
        "        disc_mask, cup_mask = extract_disc_and_cup_masks(disc_mask, cup_mask)\n",
        "        # Remodeler training_GTOD/ OC en (256, 256, 1)\n",
        "        disc_mask= np.reshape(disc_mask, (256, 256, 1))\n",
        "        cup_mask= np.reshape(cup_mask, (256, 256, 1))\n",
        "        # Ajouter les données chargées aux listes\n",
        "        training_images.append(image)\n",
        "        training_GTOD.append(disc_mask)\n",
        "        training_GTOC.append(cup_mask)\n",
        "\n",
        "# Convertir les listes en tableaux NumPy pour une manipulation plus facile\n",
        "training_images= np.array(training_images)\n",
        "training_GTOD = np.array(training_GTOD)\n",
        "training_GTOC = np.array(training_GTOC)"
      ],
      "metadata": {
        "id": "dpKsPGn_xNIE"
      },
      "execution_count": null,
      "outputs": []
    },
    {
      "cell_type": "markdown",
      "source": [
        "#Normalization"
      ],
      "metadata": {
        "id": "FsUG8754x6_1"
      }
    },
    {
      "cell_type": "code",
      "source": [
        "training_images= training_images / 255.0\n",
        "training_GTOD= training_GTOD / 255.0"
      ],
      "metadata": {
        "id": "gRN8GJz1x81c"
      },
      "execution_count": null,
      "outputs": []
    }
  ],
  "metadata": {
    "accelerator": "GPU",
    "colab": {
      "collapsed_sections": [
        "4dWUnJiqfily",
        "n78uHzUpCgh7",
        "OXuSEOV7FQ36",
        "d3oogN77bg0i",
        "SPcY2YrNS2bE",
        "CYe5CIzeSohQ",
        "ZuyIoG-S9WjF",
        "8QJe-RhGvFDN",
        "KTKrusz4qUtl",
        "PWXGAQFAF3G_"
      ],
      "provenance": [],
      "include_colab_link": true
    },
    "kernelspec": {
      "display_name": "Python 3",
      "name": "python3"
    },
    "language_info": {
      "name": "python"
    }
  },
  "nbformat": 4,
  "nbformat_minor": 0
}